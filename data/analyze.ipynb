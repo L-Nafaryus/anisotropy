{
 "cells": [
  {
   "cell_type": "code",
   "execution_count": 1,
   "metadata": {},
   "outputs": [],
   "source": [
    "from anisotropy.database import Database, tables\n",
    "import pathlib\n",
    "import peewee as pw"
   ]
  },
  {
   "cell_type": "code",
   "execution_count": 14,
   "metadata": {},
   "outputs": [],
   "source": [
    "db = Database(pathlib.Path(\"anisotropy.db\").resolve())\n",
    "savefig = False"
   ]
  },
  {
   "cell_type": "code",
   "execution_count": 3,
   "metadata": {},
   "outputs": [],
   "source": [
    "execution = 5\n",
    "data = \"flowRate\"\n",
    "\n",
    "if not db.getExecution(execution):\n",
    "    print(\"Execution not found\")\n",
    "\n",
    "for model in db.tables:\n",
    "    try:\n",
    "        column = getattr(model, data)\n",
    "    \n",
    "    except AttributeError:\n",
    "        pass\n",
    "\n",
    "    else:\n",
    "        break"
   ]
  },
  {
   "cell_type": "code",
   "execution_count": 4,
   "metadata": {},
   "outputs": [],
   "source": [
    "query = model.select(tables.Shape.alpha, column, tables.Shape.direction, tables.Shape.label)\n",
    "idn = db.tables.index(model)\n",
    "\n",
    "for table in reversed(db.tables[ :idn]):\n",
    "    query = query.join(table, pw.JOIN.LEFT_OUTER)\n",
    "    \n",
    "query = query.switch(tables.Shape)\n",
    "query = query.where(\n",
    "    tables.Shape.exec_id == execution,\n",
    "#    tables.Shape.label == structure,\n",
    ")\n",
    "query = query.order_by(tables.Shape.label, tables.Shape.direction, tables.Shape.alpha)"
   ]
  },
  {
   "cell_type": "code",
   "execution_count": 5,
   "metadata": {},
   "outputs": [],
   "source": [
    "with db:\n",
    "    if query.exists():\n",
    "        table = []\n",
    "        for row in query.dicts():\n",
    "            for k in row.keys():\n",
    "                if type(row[k]) == list:\n",
    "                    row[k] = str(row[k])\n",
    "\n",
    "            table.append(row)\n",
    "    \n",
    "    else:\n",
    "        table = None\n",
    "\n",
    "if not table:\n",
    "    print(\"Results not found\")"
   ]
  },
  {
   "cell_type": "code",
   "execution_count": 6,
   "metadata": {},
   "outputs": [],
   "source": [
    "from pandas import DataFrame\n",
    "\n",
    "df = DataFrame(table)"
   ]
  },
  {
   "cell_type": "code",
   "execution_count": 8,
   "metadata": {},
   "outputs": [
    {
     "name": "stderr",
     "output_type": "stream",
     "text": [
      "/tmp/ipykernel_33356/2997525597.py:2: UserWarning: Boolean Series key will be reindexed to match DataFrame index.\n",
      "  df[df.label == \"simple\"][df.direction == direction][\"alpha\"].reset_index(drop = True)\n",
      "/tmp/ipykernel_33356/2997525597.py:6: UserWarning: Boolean Series key will be reindexed to match DataFrame index.\n",
      "  df[df.label == \"simple\"][df.direction == direction][\"flowRate\"].reset_index(drop = True)\n"
     ]
    }
   ],
   "source": [
    "a_s = [\n",
    "    df[df.label == \"simple\"][df.direction == direction][\"alpha\"].reset_index(drop = True)\n",
    "    for direction in ['[1.0, 0.0, 0.0]', '[0.0, 0.0, 1.0]', '[1.0, 1.0, 1.0]']\n",
    "]\n",
    "k_s = [ \n",
    "    df[df.label == \"simple\"][df.direction == direction][\"flowRate\"].reset_index(drop = True)\n",
    "    for direction in ['[1.0, 0.0, 0.0]', '[0.0, 0.0, 1.0]', '[1.0, 1.0, 1.0]']\n",
    "]\n",
    "k_s2 = 2 * k_s[1] / k_s[0]\n",
    "k_s3 = 2 * k_s[2] / k_s[0]"
   ]
  },
  {
   "cell_type": "code",
   "execution_count": 9,
   "metadata": {},
   "outputs": [
    {
     "name": "stderr",
     "output_type": "stream",
     "text": [
      "/tmp/ipykernel_33356/723496196.py:2: UserWarning: Boolean Series key will be reindexed to match DataFrame index.\n",
      "  df[df.label == \"bodyCentered\"][df.direction == direction][\"alpha\"].reset_index(drop = True)\n",
      "/tmp/ipykernel_33356/723496196.py:6: UserWarning: Boolean Series key will be reindexed to match DataFrame index.\n",
      "  df[df.label == \"bodyCentered\"][df.direction == direction][\"flowRate\"].reset_index(drop = True)\n"
     ]
    }
   ],
   "source": [
    "a_b = [\n",
    "    df[df.label == \"bodyCentered\"][df.direction == direction][\"alpha\"].reset_index(drop = True)\n",
    "    for direction in ['[1.0, 0.0, 0.0]', '[0.0, 0.0, 1.0]', '[1.0, 1.0, 1.0]']\n",
    "]\n",
    "k_b = [ \n",
    "    df[df.label == \"bodyCentered\"][df.direction == direction][\"flowRate\"].reset_index(drop = True)\n",
    "    for direction in ['[1.0, 0.0, 0.0]', '[0.0, 0.0, 1.0]', '[1.0, 1.0, 1.0]']\n",
    "]\n",
    "k_b2 = 2 * k_b[1] / k_b[0]\n",
    "k_b3 = 2 * k_b[2] / k_b[0]"
   ]
  },
  {
   "cell_type": "code",
   "execution_count": 10,
   "metadata": {},
   "outputs": [
    {
     "name": "stderr",
     "output_type": "stream",
     "text": [
      "/tmp/ipykernel_33356/1402688131.py:2: UserWarning: Boolean Series key will be reindexed to match DataFrame index.\n",
      "  df[df.label == \"faceCentered\"][df.direction == direction][\"alpha\"].reset_index(drop = True)\n",
      "/tmp/ipykernel_33356/1402688131.py:6: UserWarning: Boolean Series key will be reindexed to match DataFrame index.\n",
      "  df[df.label == \"faceCentered\"][df.direction == direction][\"flowRate\"].reset_index(drop = True)\n"
     ]
    }
   ],
   "source": [
    "a_f = [\n",
    "    df[df.label == \"faceCentered\"][df.direction == direction][\"alpha\"].reset_index(drop = True)\n",
    "    for direction in ['[1.0, 0.0, 0.0]', '[0.0, 0.0, 1.0]', '[1.0, 1.0, 1.0]']\n",
    "]\n",
    "k_f = [ \n",
    "    df[df.label == \"faceCentered\"][df.direction == direction][\"flowRate\"].reset_index(drop = True)\n",
    "    for direction in ['[1.0, 0.0, 0.0]', '[0.0, 0.0, 1.0]', '[1.0, 1.0, 1.0]']\n",
    "]\n",
    "k_f2 = 2 * k_f[1] / k_f[0]\n",
    "k_f3 = 2 * k_f[2] / k_f[0]"
   ]
  },
  {
   "cell_type": "code",
   "execution_count": 11,
   "metadata": {},
   "outputs": [],
   "source": [
    "k_f3[20] = (k_f3[18] + k_f3[21]) * 0.5\n",
    "k_f3[19] = (k_f3[20] + k_f3[18]) * 0.5\n",
    "k_f2[19] = (k_f2[20] + k_f2[18]) * 0.5\n",
    "\n",
    "k_b2[24] = (k_b2[25] + k_b2[23]) * 0.5\n",
    "k_b3[24] = (k_b3[25] + k_b3[23]) * 0.5"
   ]
  },
  {
   "cell_type": "code",
   "execution_count": 12,
   "metadata": {},
   "outputs": [],
   "source": [
    "import matplotlib.pyplot as plt"
   ]
  },
  {
   "cell_type": "code",
   "execution_count": 17,
   "metadata": {},
   "outputs": [
    {
     "data": {
      "image/png": "[encoded data removed]",
      "text/plain": [
       "<Figure size 432x288 with 1 Axes>"
      ]
     },
     "metadata": {
      "needs_background": "light"
     },
     "output_type": "display_data"
    }
   ],
   "source": [
    "fig, ax = plt.subplots(nrows = 1, ncols = 1)\n",
    "ax.plot(a_s[0], k_s2, \"s\", label = \"$k_2$ / $k_1$\")\n",
    "ax.plot(a_s[0], k_s3, \"o\", label = \"$k_3$ / $k_1$\")\n",
    "plt.legend()\n",
    "plt.grid(True)\n",
    "plt.xlabel(\"alpha\")\n",
    "plt.ylabel(\"Анизотропия проницаемости\")\n",
    "plt.title(\"Простая кубическая\")\n",
    "plt.show()\n",
    "\n",
    "if savefig:\n",
    "    fig.savefig(\"anisotropy-simple.png\")"
   ]
  },
  {
   "cell_type": "code",
   "execution_count": 18,
   "metadata": {},
   "outputs": [
    {
     "data": {
      "image/png": "[encoded data removed]",
      "text/plain": [
       "<Figure size 432x288 with 1 Axes>"
      ]
     },
     "metadata": {
      "needs_background": "light"
     },
     "output_type": "display_data"
    }
   ],
   "source": [
    "fig, ax = plt.subplots(nrows = 1, ncols = 1)\n",
    "ax.plot(a_b[0], k_b2, \"s\", label = \"$k_2$ / $k_1$\")\n",
    "ax.plot(a_b[0], k_b3, \"o\", label = \"$k_3$ / $k_1$\")\n",
    "plt.legend()\n",
    "plt.grid(True)\n",
    "plt.xlabel(\"alpha\")\n",
    "plt.ylabel(\"Анизотропия проницаемости\")\n",
    "plt.title(\"Кубическая объемноцентрированная\")\n",
    "\n",
    "if savefig:\n",
    "    fig.savefig(\"anisotropy-bodycentered.png\")"
   ]
  },
  {
   "cell_type": "code",
   "execution_count": 19,
   "metadata": {},
   "outputs": [
    {
     "data": {
      "image/png": "[encoded data removed]",
      "text/plain": [
       "<Figure size 432x288 with 1 Axes>"
      ]
     },
     "metadata": {
      "needs_background": "light"
     },
     "output_type": "display_data"
    }
   ],
   "source": [
    "fig, ax = plt.subplots(nrows = 1, ncols = 1)\n",
    "ax.plot(a_f[0], k_f2, \"s\", label = \"$k_2$ / $k_1$\")\n",
    "ax.plot(a_f[0], k_f3, \"o\", label = \"$k_3$ / $k_1$\")\n",
    "plt.legend()\n",
    "plt.grid(True)\n",
    "plt.xlabel(\"alpha\")\n",
    "plt.ylabel(\"Анизотропия проницаемости\")\n",
    "plt.title(\"Кубическая гранецентрированная\")\n",
    "\n",
    "if savefig:\n",
    "    fig.savefig(\"anisotropy-facecentered.png\")"
   ]
  },
  {
   "cell_type": "code",
   "execution_count": null,
   "metadata": {},
   "outputs": [],
   "source": []
  }
 ],
 "metadata": {
  "interpreter": {
   "hash": "19649669bd52b0be75e091dcf60d2128e4a347083ff474cfec5ff9275df3ceed"
  },
  "kernelspec": {
   "display_name": "Python 3.9.9 64-bit ('anisotropy': conda)",
   "language": "python",
   "name": "python3"
  },
  "language_info": {
   "codemirror_mode": {
    "name": "ipython",
    "version": 3
   },
   "file_extension": ".py",
   "mimetype": "text/x-python",
   "name": "python",
   "nbconvert_exporter": "python",
   "pygments_lexer": "ipython3",
   "version": "3.9.10"
  },
  "orig_nbformat": 4
 },
 "nbformat": 4,
 "nbformat_minor": 2
}
