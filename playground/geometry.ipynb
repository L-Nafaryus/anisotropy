{
 "cells": [
  {
   "cell_type": "markdown",
   "id": "c94a76d4-15cb-4628-980e-644c24119b55",
   "metadata": {
    "tags": []
   },
   "source": [
    "# Geometry parameters\n",
    "\n",
    "## Simple structure\n",
    "\n",
    "$$ \\theta \\in \\left[ 0.01, 0.28 \\right] $$\n",
    "$$ r_0 = 1 $$\n",
    "$$ L = 2 r_0 $$\n",
    "$$ r = \\frac{r_0}{1 - \\theta} $$\n",
    "$$ r_{fillet} = r_0 \\left (\\sqrt{2} - \\frac{1}{1 - \\theta} \\right) $$\n",
    "\n",
    "## Face centered structure\n",
    "\n",
    "$$ \\theta \\in \\left[ 0.01, 0.13 \\right] $$\n",
    "$$ r_0 = 1 $$\n",
    "$$ L = \\frac{4 r_0}{\\sqrt{2}} $$\n",
    "$$ r = \\frac{r_0}{1 - \\theta} $$\n",
    "$$ r_{fillet} = r_0 \\left( \\frac{2 \\sqrt{3}}{3} - \\frac{1}{1 - \\theta} \\right) $$\n",
    "\n",
    "## Body centered structure\n",
    "\n",
    "$$ \\theta \\in \\left[ 0.01, 0.18 \\right] $$\n",
    "$$ r_0 = 1 $$\n",
    "$$ L = \\frac{4 r_0}{\\sqrt{3}} $$\n",
    "$$ r = \\frac{r_0}{1 - \\theta} $$\n",
    "$$ r_{fillet} = r_0 \\left( \\frac{\\sqrt{2}}{\\sqrt{1 - \\cos \\left(\\pi - 2 \\arccos \\left(\\sqrt{\\frac{2}{3}} \\right) \\right)}} - \n",
    "            \\frac{1}{1 - \\theta} \\right) $$\n"
   ]
  }
 ],
 "metadata": {
  "kernelspec": {
   "display_name": "Python 3",
   "language": "python",
   "name": "python3"
  },
  "language_info": {
   "codemirror_mode": {
    "name": "ipython",
    "version": 3
   },
   "file_extension": ".py",
   "mimetype": "text/x-python",
   "name": "python",
   "nbconvert_exporter": "python",
   "pygments_lexer": "ipython3",
   "version": "3.10.0"
  }
 },
 "nbformat": 4,
 "nbformat_minor": 5
}
